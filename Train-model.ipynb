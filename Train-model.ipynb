{
 "cells": [
  {
   "cell_type": "code",
   "execution_count": 1,
   "id": "3a3f73dc",
   "metadata": {},
   "outputs": [],
   "source": [
    "import pandas as pd\n",
    "import numpy as np\n",
    "import matplotlib.pyplot as plt\n",
    "import ast\n",
    "import re\n",
    "import nltk\n",
    "from nltk.corpus import stopwords\n",
    "from nltk.tokenize import word_tokenize\n",
    "import warnings\n",
    "warnings.filterwarnings('always')"
   ]
  },
  {
   "cell_type": "code",
   "execution_count": 2,
   "id": "c295ed62",
   "metadata": {},
   "outputs": [],
   "source": [
    "from sklearn.feature_extraction.text import TfidfVectorizer\n",
    "from sklearn.preprocessing import MultiLabelBinarizer\n",
    "from sklearn.model_selection import train_test_split\n",
    "\n",
    "\n",
    "from sklearn.linear_model import SGDClassifier\n",
    "from sklearn.linear_model import LogisticRegression\n",
    "from sklearn.svm import LinearSVC\n",
    "from sklearn.naive_bayes import MultinomialNB\n",
    "from sklearn.tree import DecisionTreeClassifier\n",
    "from sklearn.naive_bayes import GaussianNB\n"
   ]
  },
  {
   "cell_type": "code",
   "execution_count": 3,
   "id": "3f0738a8",
   "metadata": {},
   "outputs": [],
   "source": [
    "import ssl\n",
    "\n",
    "try:\n",
    "    _create_unverified_https_context = ssl._create_unverified_context\n",
    "except AttributeError:\n",
    "    pass\n",
    "else:\n",
    "    ssl._create_default_https_context = _create_unverified_https_context \n"
   ]
  },
  {
   "cell_type": "code",
   "execution_count": 4,
   "id": "5bd2fae3",
   "metadata": {},
   "outputs": [
    {
     "data": {
      "text/html": [
       "<div>\n",
       "<style scoped>\n",
       "    .dataframe tbody tr th:only-of-type {\n",
       "        vertical-align: middle;\n",
       "    }\n",
       "\n",
       "    .dataframe tbody tr th {\n",
       "        vertical-align: top;\n",
       "    }\n",
       "\n",
       "    .dataframe thead th {\n",
       "        text-align: right;\n",
       "    }\n",
       "</style>\n",
       "<table border=\"1\" class=\"dataframe\">\n",
       "  <thead>\n",
       "    <tr style=\"text-align: right;\">\n",
       "      <th></th>\n",
       "      <th>Text</th>\n",
       "      <th>Tags</th>\n",
       "    </tr>\n",
       "  </thead>\n",
       "  <tbody>\n",
       "    <tr>\n",
       "      <th>2</th>\n",
       "      <td>aspnet site maps has anyone got experience cre...</td>\n",
       "      <td>['sql', 'asp.net']</td>\n",
       "    </tr>\n",
       "    <tr>\n",
       "      <th>4</th>\n",
       "      <td>adding scripting functionality to net applicat...</td>\n",
       "      <td>['c#', '.net']</td>\n",
       "    </tr>\n",
       "    <tr>\n",
       "      <th>5</th>\n",
       "      <td>should i use nested classes in this case i am ...</td>\n",
       "      <td>['c++']</td>\n",
       "    </tr>\n",
       "    <tr>\n",
       "      <th>6</th>\n",
       "      <td>homegrown consumption of web services i have b...</td>\n",
       "      <td>['.net']</td>\n",
       "    </tr>\n",
       "    <tr>\n",
       "      <th>8</th>\n",
       "      <td>automatically update version number i would li...</td>\n",
       "      <td>['c#']</td>\n",
       "    </tr>\n",
       "    <tr>\n",
       "      <th>...</th>\n",
       "      <td>...</td>\n",
       "      <td>...</td>\n",
       "    </tr>\n",
       "    <tr>\n",
       "      <th>1262668</th>\n",
       "      <td>using lambda in default initializer gcc vs cla...</td>\n",
       "      <td>['c++']</td>\n",
       "    </tr>\n",
       "    <tr>\n",
       "      <th>1262834</th>\n",
       "      <td>stl list very bad performance it is supposed t...</td>\n",
       "      <td>['c++']</td>\n",
       "    </tr>\n",
       "    <tr>\n",
       "      <th>1262915</th>\n",
       "      <td>how to use a dict to subset a dataframe say i ...</td>\n",
       "      <td>['python']</td>\n",
       "    </tr>\n",
       "    <tr>\n",
       "      <th>1263065</th>\n",
       "      <td>is there a way to use itertools in python to c...</td>\n",
       "      <td>['python']</td>\n",
       "    </tr>\n",
       "    <tr>\n",
       "      <th>1263454</th>\n",
       "      <td>why does my result data returned as void gets ...</td>\n",
       "      <td>['c++']</td>\n",
       "    </tr>\n",
       "  </tbody>\n",
       "</table>\n",
       "<p>48976 rows × 2 columns</p>\n",
       "</div>"
      ],
      "text/plain": [
       "                                                      Text                Tags\n",
       "2        aspnet site maps has anyone got experience cre...  ['sql', 'asp.net']\n",
       "4        adding scripting functionality to net applicat...      ['c#', '.net']\n",
       "5        should i use nested classes in this case i am ...             ['c++']\n",
       "6        homegrown consumption of web services i have b...            ['.net']\n",
       "8        automatically update version number i would li...              ['c#']\n",
       "...                                                    ...                 ...\n",
       "1262668  using lambda in default initializer gcc vs cla...             ['c++']\n",
       "1262834  stl list very bad performance it is supposed t...             ['c++']\n",
       "1262915  how to use a dict to subset a dataframe say i ...          ['python']\n",
       "1263065  is there a way to use itertools in python to c...          ['python']\n",
       "1263454  why does my result data returned as void gets ...             ['c++']\n",
       "\n",
       "[48976 rows x 2 columns]"
      ]
     },
     "execution_count": 4,
     "metadata": {},
     "output_type": "execute_result"
    }
   ],
   "source": [
    "# Read file\n",
    "df = pd.read_csv('https://raw.githubusercontent.com/laxmimerit/All-CSV-ML-Data-Files-Download/master/stackoverflow.csv', index_col=0)\n",
    "df"
   ]
  },
  {
   "cell_type": "code",
   "execution_count": 5,
   "id": "dd01bc83",
   "metadata": {},
   "outputs": [
    {
     "data": {
      "text/html": [
       "<div>\n",
       "<style scoped>\n",
       "    .dataframe tbody tr th:only-of-type {\n",
       "        vertical-align: middle;\n",
       "    }\n",
       "\n",
       "    .dataframe tbody tr th {\n",
       "        vertical-align: top;\n",
       "    }\n",
       "\n",
       "    .dataframe thead th {\n",
       "        text-align: right;\n",
       "    }\n",
       "</style>\n",
       "<table border=\"1\" class=\"dataframe\">\n",
       "  <thead>\n",
       "    <tr style=\"text-align: right;\">\n",
       "      <th></th>\n",
       "      <th>Text</th>\n",
       "      <th>Tags</th>\n",
       "    </tr>\n",
       "  </thead>\n",
       "  <tbody>\n",
       "    <tr>\n",
       "      <th>2</th>\n",
       "      <td>aspnet site maps has anyone got experience cre...</td>\n",
       "      <td>['sql', 'asp.net']</td>\n",
       "    </tr>\n",
       "    <tr>\n",
       "      <th>4</th>\n",
       "      <td>adding scripting functionality to net applicat...</td>\n",
       "      <td>['c#', '.net']</td>\n",
       "    </tr>\n",
       "    <tr>\n",
       "      <th>5</th>\n",
       "      <td>should i use nested classes in this case i am ...</td>\n",
       "      <td>['c++']</td>\n",
       "    </tr>\n",
       "    <tr>\n",
       "      <th>6</th>\n",
       "      <td>homegrown consumption of web services i have b...</td>\n",
       "      <td>['.net']</td>\n",
       "    </tr>\n",
       "    <tr>\n",
       "      <th>8</th>\n",
       "      <td>automatically update version number i would li...</td>\n",
       "      <td>['c#']</td>\n",
       "    </tr>\n",
       "  </tbody>\n",
       "</table>\n",
       "</div>"
      ],
      "text/plain": [
       "                                                Text                Tags\n",
       "2  aspnet site maps has anyone got experience cre...  ['sql', 'asp.net']\n",
       "4  adding scripting functionality to net applicat...      ['c#', '.net']\n",
       "5  should i use nested classes in this case i am ...             ['c++']\n",
       "6  homegrown consumption of web services i have b...            ['.net']\n",
       "8  automatically update version number i would li...              ['c#']"
      ]
     },
     "execution_count": 5,
     "metadata": {},
     "output_type": "execute_result"
    }
   ],
   "source": [
    "df.head()"
   ]
  },
  {
   "cell_type": "markdown",
   "id": "525646ea",
   "metadata": {},
   "source": [
    "# EDA"
   ]
  },
  {
   "cell_type": "code",
   "execution_count": 6,
   "id": "f2d8820a",
   "metadata": {},
   "outputs": [
    {
     "name": "stdout",
     "output_type": "stream",
     "text": [
      "<class 'pandas.core.frame.DataFrame'>\n",
      "Int64Index: 48976 entries, 2 to 1263454\n",
      "Data columns (total 2 columns):\n",
      " #   Column  Non-Null Count  Dtype \n",
      "---  ------  --------------  ----- \n",
      " 0   Text    48976 non-null  object\n",
      " 1   Tags    48976 non-null  object\n",
      "dtypes: object(2)\n",
      "memory usage: 1.1+ MB\n"
     ]
    }
   ],
   "source": [
    "# Find info of dataset\n",
    "df.info()"
   ]
  },
  {
   "cell_type": "code",
   "execution_count": 7,
   "id": "130b281b",
   "metadata": {},
   "outputs": [
    {
     "data": {
      "text/plain": [
       "(48976, 2)"
      ]
     },
     "execution_count": 7,
     "metadata": {},
     "output_type": "execute_result"
    }
   ],
   "source": [
    "# Find the number of col and rows of dataset\n",
    "df.shape"
   ]
  },
  {
   "cell_type": "code",
   "execution_count": 8,
   "id": "7039623b",
   "metadata": {},
   "outputs": [
    {
     "data": {
      "text/plain": [
       "Text    0\n",
       "Tags    0\n",
       "dtype: int64"
      ]
     },
     "execution_count": 8,
     "metadata": {},
     "output_type": "execute_result"
    }
   ],
   "source": [
    "# Find number of NULL values (eventually if have need remove in preprocessing)\n",
    "df.isnull().sum()"
   ]
  },
  {
   "cell_type": "code",
   "execution_count": 9,
   "id": "cb58636f",
   "metadata": {},
   "outputs": [],
   "source": [
    "# Find is there any duplicates data (eventually if have need remove in preprocessing)\n",
    "df.duplicated().any()\n",
    "\n",
    "df = df.drop_duplicates()\n"
   ]
  },
  {
   "cell_type": "code",
   "execution_count": 10,
   "id": "aeb0b438",
   "metadata": {},
   "outputs": [
    {
     "name": "stdout",
     "output_type": "stream",
     "text": [
      "['java']                            5894\n",
      "['c#']                              4409\n",
      "['android']                         4270\n",
      "['python']                          4176\n",
      "['c++']                             3689\n",
      "                                    ... \n",
      "['c#', '.net', 'mysql']                1\n",
      "['c#', 'java', 'python', 'c++']        1\n",
      "['php', 'jquery', 'html', 'css']       1\n",
      "['php', 'mysql', 'c']                  1\n",
      "['jquery', 'ios', 'iphone']            1\n",
      "Name: Tags, Length: 438, dtype: int64\n"
     ]
    }
   ],
   "source": [
    "uniq_value = df['Tags'].value_counts()\n",
    "print(uniq_value)"
   ]
  },
  {
   "cell_type": "code",
   "execution_count": 38,
   "id": "67fdde59",
   "metadata": {},
   "outputs": [
    {
     "data": {
      "text/plain": [
       "<Figure size 1440x1440 with 0 Axes>"
      ]
     },
     "execution_count": 38,
     "metadata": {},
     "output_type": "execute_result"
    },
    {
     "data": {
      "image/png": "[encoded data removed]",
      "text/plain": [
       "<Figure size 432x288 with 1 Axes>"
      ]
     },
     "metadata": {
      "needs_background": "light"
     },
     "output_type": "display_data"
    },
    {
     "data": {
      "text/plain": [
       "<Figure size 1440x1440 with 0 Axes>"
      ]
     },
     "metadata": {},
     "output_type": "display_data"
    }
   ],
   "source": [
    "# Plot a graph to view the number of each values for the Tags \n",
    "# (purpose to check if there is any unbalanced data)\n",
    "uniq_value = df['Tags'].value_counts().head(20)\n",
    "uniq_value.plot(kind='bar');\n",
    "plt.xticks(rotation=90)\n",
    "plt.figure(figsize=(20, 20))\n"
   ]
  },
  {
   "cell_type": "code",
   "execution_count": 15,
   "id": "b1df6fb3",
   "metadata": {},
   "outputs": [
    {
     "data": {
      "text/html": [
       "<div>\n",
       "<style scoped>\n",
       "    .dataframe tbody tr th:only-of-type {\n",
       "        vertical-align: middle;\n",
       "    }\n",
       "\n",
       "    .dataframe tbody tr th {\n",
       "        vertical-align: top;\n",
       "    }\n",
       "\n",
       "    .dataframe thead th {\n",
       "        text-align: right;\n",
       "    }\n",
       "</style>\n",
       "<table border=\"1\" class=\"dataframe\">\n",
       "  <thead>\n",
       "    <tr style=\"text-align: right;\">\n",
       "      <th></th>\n",
       "      <th>Text</th>\n",
       "      <th>Tags</th>\n",
       "    </tr>\n",
       "  </thead>\n",
       "  <tbody>\n",
       "    <tr>\n",
       "      <th>4</th>\n",
       "      <td>adding scripting functionality to net applicat...</td>\n",
       "      <td>['c#', '.net']</td>\n",
       "    </tr>\n",
       "    <tr>\n",
       "      <th>5</th>\n",
       "      <td>should i use nested classes in this case i am ...</td>\n",
       "      <td>['c++']</td>\n",
       "    </tr>\n",
       "    <tr>\n",
       "      <th>6</th>\n",
       "      <td>homegrown consumption of web services i have b...</td>\n",
       "      <td>['.net']</td>\n",
       "    </tr>\n",
       "    <tr>\n",
       "      <th>8</th>\n",
       "      <td>automatically update version number i would li...</td>\n",
       "      <td>['c#']</td>\n",
       "    </tr>\n",
       "    <tr>\n",
       "      <th>10</th>\n",
       "      <td>how do i connect to a database and loop over a...</td>\n",
       "      <td>['c#']</td>\n",
       "    </tr>\n",
       "    <tr>\n",
       "      <th>...</th>\n",
       "      <td>...</td>\n",
       "      <td>...</td>\n",
       "    </tr>\n",
       "    <tr>\n",
       "      <th>1262668</th>\n",
       "      <td>using lambda in default initializer gcc vs cla...</td>\n",
       "      <td>['c++']</td>\n",
       "    </tr>\n",
       "    <tr>\n",
       "      <th>1262834</th>\n",
       "      <td>stl list very bad performance it is supposed t...</td>\n",
       "      <td>['c++']</td>\n",
       "    </tr>\n",
       "    <tr>\n",
       "      <th>1262915</th>\n",
       "      <td>how to use a dict to subset a dataframe say i ...</td>\n",
       "      <td>['python']</td>\n",
       "    </tr>\n",
       "    <tr>\n",
       "      <th>1263065</th>\n",
       "      <td>is there a way to use itertools in python to c...</td>\n",
       "      <td>['python']</td>\n",
       "    </tr>\n",
       "    <tr>\n",
       "      <th>1263454</th>\n",
       "      <td>why does my result data returned as void gets ...</td>\n",
       "      <td>['c++']</td>\n",
       "    </tr>\n",
       "  </tbody>\n",
       "</table>\n",
       "<p>42087 rows × 2 columns</p>\n",
       "</div>"
      ],
      "text/plain": [
       "                                                      Text            Tags\n",
       "4        adding scripting functionality to net applicat...  ['c#', '.net']\n",
       "5        should i use nested classes in this case i am ...         ['c++']\n",
       "6        homegrown consumption of web services i have b...        ['.net']\n",
       "8        automatically update version number i would li...          ['c#']\n",
       "10       how do i connect to a database and loop over a...          ['c#']\n",
       "...                                                    ...             ...\n",
       "1262668  using lambda in default initializer gcc vs cla...         ['c++']\n",
       "1262834  stl list very bad performance it is supposed t...         ['c++']\n",
       "1262915  how to use a dict to subset a dataframe say i ...      ['python']\n",
       "1263065  is there a way to use itertools in python to c...      ['python']\n",
       "1263454  why does my result data returned as void gets ...         ['c++']\n",
       "\n",
       "[42087 rows x 2 columns]"
      ]
     },
     "execution_count": 15,
     "metadata": {},
     "output_type": "execute_result"
    }
   ],
   "source": [
    "\n",
    "# Removing the row of data which has the least frequent occur classes \n",
    "\n",
    "threshold = 500 # Anything that occurs less than this will be removed.\n",
    "value_counts = df['Tags'].value_counts() # Entire DataFrame \n",
    "# get the values which are lower than 500\n",
    "to_remove = value_counts[value_counts <= threshold].index\n",
    "\n",
    "# convert to list \n",
    "list_val = to_remove.tolist()\n",
    "\n",
    "# filter out the matched values\n",
    "df = df[~df['Tags'].isin(list_val)]\n",
    "\n",
    "df"
   ]
  },
  {
   "cell_type": "markdown",
   "id": "a3c3d590",
   "metadata": {},
   "source": [
    "# Data Preprocessing"
   ]
  },
  {
   "cell_type": "code",
   "execution_count": 32,
   "id": "b5600521",
   "metadata": {},
   "outputs": [
    {
     "name": "stderr",
     "output_type": "stream",
     "text": [
      "<>:5: DeprecationWarning: invalid escape sequence \\d\n",
      "<>:5: DeprecationWarning: invalid escape sequence \\d\n",
      "/var/folders/dn/hzq0yrf51jb3t_cht4tpk6yw0000gn/T/ipykernel_2163/2186213241.py:5: DeprecationWarning: invalid escape sequence \\d\n",
      "  text = re.sub(\"\\d+\", '', text)\n"
     ]
    }
   ],
   "source": [
    "# Preprocessing function \n",
    "def preprocessText(text):\n",
    "    stop_words = stopwords.words()\n",
    "    \n",
    "    # remove digits\n",
    "    text = re.sub(\"\\d+\", '', text)  \n",
    "    \n",
    "    # removing the stop-words          \n",
    "    text_tokens = word_tokenize(text)\n",
    "    tokens_without_sw = [word for word in text_tokens if not word in stop_words]\n",
    "    filtered_sentence = (\" \").join(tokens_without_sw)\n",
    "    text = filtered_sentence\n",
    "    \n",
    "    return text\n",
    "    "
   ]
  },
  {
   "cell_type": "code",
   "execution_count": 33,
   "id": "36f797d9",
   "metadata": {},
   "outputs": [
    {
     "name": "stderr",
     "output_type": "stream",
     "text": [
      "/var/folders/dn/hzq0yrf51jb3t_cht4tpk6yw0000gn/T/ipykernel_2163/3985241715.py:2: SettingWithCopyWarning: \n",
      "A value is trying to be set on a copy of a slice from a DataFrame.\n",
      "Try using .loc[row_indexer,col_indexer] = value instead\n",
      "\n",
      "See the caveats in the documentation: https://pandas.pydata.org/pandas-docs/stable/user_guide/indexing.html#returning-a-view-versus-a-copy\n",
      "  df[\"Text\"]  = df[\"Text\"].apply(preprocessText)\n"
     ]
    }
   ],
   "source": [
    "# cleaned the text after applying the wordopt func\n",
    "df[\"Text\"]  = df[\"Text\"].apply(preprocessText)"
   ]
  },
  {
   "cell_type": "code",
   "execution_count": 35,
   "id": "79a34d8d",
   "metadata": {},
   "outputs": [
    {
     "data": {
      "text/html": [
       "<div>\n",
       "<style scoped>\n",
       "    .dataframe tbody tr th:only-of-type {\n",
       "        vertical-align: middle;\n",
       "    }\n",
       "\n",
       "    .dataframe tbody tr th {\n",
       "        vertical-align: top;\n",
       "    }\n",
       "\n",
       "    .dataframe thead th {\n",
       "        text-align: right;\n",
       "    }\n",
       "</style>\n",
       "<table border=\"1\" class=\"dataframe\">\n",
       "  <thead>\n",
       "    <tr style=\"text-align: right;\">\n",
       "      <th></th>\n",
       "      <th>Text</th>\n",
       "      <th>Tags</th>\n",
       "    </tr>\n",
       "  </thead>\n",
       "  <tbody>\n",
       "    <tr>\n",
       "      <th>4</th>\n",
       "      <td>adding scripting functionality net application...</td>\n",
       "      <td>['c#', '.net']</td>\n",
       "    </tr>\n",
       "    <tr>\n",
       "      <th>5</th>\n",
       "      <td>use nested classes case working collection cla...</td>\n",
       "      <td>['c++']</td>\n",
       "    </tr>\n",
       "    <tr>\n",
       "      <th>6</th>\n",
       "      <td>homegrown consumption web services writing web...</td>\n",
       "      <td>['.net']</td>\n",
       "    </tr>\n",
       "    <tr>\n",
       "      <th>8</th>\n",
       "      <td>automatically update version number would like...</td>\n",
       "      <td>['c#']</td>\n",
       "    </tr>\n",
       "    <tr>\n",
       "      <th>10</th>\n",
       "      <td>connect database loop recordset whats simplest...</td>\n",
       "      <td>['c#']</td>\n",
       "    </tr>\n",
       "    <tr>\n",
       "      <th>...</th>\n",
       "      <td>...</td>\n",
       "      <td>...</td>\n",
       "    </tr>\n",
       "    <tr>\n",
       "      <th>1262668</th>\n",
       "      <td>using lambda default initializer gcc vs clang ...</td>\n",
       "      <td>['c++']</td>\n",
       "    </tr>\n",
       "    <tr>\n",
       "      <th>1262834</th>\n",
       "      <td>stl list bad performance supposed push back po...</td>\n",
       "      <td>['c++']</td>\n",
       "    </tr>\n",
       "    <tr>\n",
       "      <th>1262915</th>\n",
       "      <td>use dict subset dataframe say given dataframe ...</td>\n",
       "      <td>['python']</td>\n",
       "    </tr>\n",
       "    <tr>\n",
       "      <th>1263065</th>\n",
       "      <td>way use itertools python clean nested iteratio...</td>\n",
       "      <td>['python']</td>\n",
       "    </tr>\n",
       "    <tr>\n",
       "      <th>1263454</th>\n",
       "      <td>result data returned void gets broken working ...</td>\n",
       "      <td>['c++']</td>\n",
       "    </tr>\n",
       "  </tbody>\n",
       "</table>\n",
       "<p>42087 rows × 2 columns</p>\n",
       "</div>"
      ],
      "text/plain": [
       "                                                      Text            Tags\n",
       "4        adding scripting functionality net application...  ['c#', '.net']\n",
       "5        use nested classes case working collection cla...         ['c++']\n",
       "6        homegrown consumption web services writing web...        ['.net']\n",
       "8        automatically update version number would like...          ['c#']\n",
       "10       connect database loop recordset whats simplest...          ['c#']\n",
       "...                                                    ...             ...\n",
       "1262668  using lambda default initializer gcc vs clang ...         ['c++']\n",
       "1262834  stl list bad performance supposed push back po...         ['c++']\n",
       "1262915  use dict subset dataframe say given dataframe ...      ['python']\n",
       "1263065  way use itertools python clean nested iteratio...      ['python']\n",
       "1263454  result data returned void gets broken working ...         ['c++']\n",
       "\n",
       "[42087 rows x 2 columns]"
      ]
     },
     "execution_count": 35,
     "metadata": {},
     "output_type": "execute_result"
    }
   ],
   "source": [
    "df_temp = df\n",
    "df_temp"
   ]
  },
  {
   "cell_type": "code",
   "execution_count": 36,
   "id": "74028526",
   "metadata": {},
   "outputs": [],
   "source": [
    "# Writing to a new file after preprocessing \n",
    "df_temp.to_csv('cleaned_new.csv', index=False)\n"
   ]
  },
  {
   "cell_type": "markdown",
   "id": "5c5591c2",
   "metadata": {},
   "source": [
    "# Read from new cleaned file (RUN START FROM HERE)"
   ]
  },
  {
   "cell_type": "code",
   "execution_count": 5,
   "id": "67861e47",
   "metadata": {},
   "outputs": [
    {
     "data": {
      "text/html": [
       "<div>\n",
       "<style scoped>\n",
       "    .dataframe tbody tr th:only-of-type {\n",
       "        vertical-align: middle;\n",
       "    }\n",
       "\n",
       "    .dataframe tbody tr th {\n",
       "        vertical-align: top;\n",
       "    }\n",
       "\n",
       "    .dataframe thead th {\n",
       "        text-align: right;\n",
       "    }\n",
       "</style>\n",
       "<table border=\"1\" class=\"dataframe\">\n",
       "  <thead>\n",
       "    <tr style=\"text-align: right;\">\n",
       "      <th></th>\n",
       "      <th>Text</th>\n",
       "      <th>Tags</th>\n",
       "    </tr>\n",
       "  </thead>\n",
       "  <tbody>\n",
       "    <tr>\n",
       "      <th>0</th>\n",
       "      <td>adding scripting functionality net application...</td>\n",
       "      <td>['c#', '.net']</td>\n",
       "    </tr>\n",
       "    <tr>\n",
       "      <th>1</th>\n",
       "      <td>use nested classes case working collection cla...</td>\n",
       "      <td>['c++']</td>\n",
       "    </tr>\n",
       "    <tr>\n",
       "      <th>2</th>\n",
       "      <td>homegrown consumption web services writing web...</td>\n",
       "      <td>['.net']</td>\n",
       "    </tr>\n",
       "    <tr>\n",
       "      <th>3</th>\n",
       "      <td>automatically update version number would like...</td>\n",
       "      <td>['c#']</td>\n",
       "    </tr>\n",
       "    <tr>\n",
       "      <th>4</th>\n",
       "      <td>connect database loop recordset whats simplest...</td>\n",
       "      <td>['c#']</td>\n",
       "    </tr>\n",
       "    <tr>\n",
       "      <th>...</th>\n",
       "      <td>...</td>\n",
       "      <td>...</td>\n",
       "    </tr>\n",
       "    <tr>\n",
       "      <th>42082</th>\n",
       "      <td>using lambda default initializer gcc vs clang ...</td>\n",
       "      <td>['c++']</td>\n",
       "    </tr>\n",
       "    <tr>\n",
       "      <th>42083</th>\n",
       "      <td>stl list bad performance supposed push back po...</td>\n",
       "      <td>['c++']</td>\n",
       "    </tr>\n",
       "    <tr>\n",
       "      <th>42084</th>\n",
       "      <td>use dict subset dataframe say given dataframe ...</td>\n",
       "      <td>['python']</td>\n",
       "    </tr>\n",
       "    <tr>\n",
       "      <th>42085</th>\n",
       "      <td>way use itertools python clean nested iteratio...</td>\n",
       "      <td>['python']</td>\n",
       "    </tr>\n",
       "    <tr>\n",
       "      <th>42086</th>\n",
       "      <td>result data returned void gets broken working ...</td>\n",
       "      <td>['c++']</td>\n",
       "    </tr>\n",
       "  </tbody>\n",
       "</table>\n",
       "<p>42087 rows × 2 columns</p>\n",
       "</div>"
      ],
      "text/plain": [
       "                                                    Text            Tags\n",
       "0      adding scripting functionality net application...  ['c#', '.net']\n",
       "1      use nested classes case working collection cla...         ['c++']\n",
       "2      homegrown consumption web services writing web...        ['.net']\n",
       "3      automatically update version number would like...          ['c#']\n",
       "4      connect database loop recordset whats simplest...          ['c#']\n",
       "...                                                  ...             ...\n",
       "42082  using lambda default initializer gcc vs clang ...         ['c++']\n",
       "42083  stl list bad performance supposed push back po...         ['c++']\n",
       "42084  use dict subset dataframe say given dataframe ...      ['python']\n",
       "42085  way use itertools python clean nested iteratio...      ['python']\n",
       "42086  result data returned void gets broken working ...         ['c++']\n",
       "\n",
       "[42087 rows x 2 columns]"
      ]
     },
     "execution_count": 5,
     "metadata": {},
     "output_type": "execute_result"
    }
   ],
   "source": [
    "df2 = pd.read_csv('cleaned_new.csv',index_col=False)\n",
    "df2"
   ]
  },
  {
   "cell_type": "code",
   "execution_count": 6,
   "id": "3cbab115",
   "metadata": {},
   "outputs": [
    {
     "data": {
      "text/html": [
       "<div>\n",
       "<style scoped>\n",
       "    .dataframe tbody tr th:only-of-type {\n",
       "        vertical-align: middle;\n",
       "    }\n",
       "\n",
       "    .dataframe tbody tr th {\n",
       "        vertical-align: top;\n",
       "    }\n",
       "\n",
       "    .dataframe thead th {\n",
       "        text-align: right;\n",
       "    }\n",
       "</style>\n",
       "<table border=\"1\" class=\"dataframe\">\n",
       "  <thead>\n",
       "    <tr style=\"text-align: right;\">\n",
       "      <th></th>\n",
       "      <th>Text</th>\n",
       "      <th>Tags</th>\n",
       "    </tr>\n",
       "  </thead>\n",
       "  <tbody>\n",
       "    <tr>\n",
       "      <th>0</th>\n",
       "      <td>adding scripting functionality net application...</td>\n",
       "      <td>[c#, .net]</td>\n",
       "    </tr>\n",
       "    <tr>\n",
       "      <th>1</th>\n",
       "      <td>use nested classes case working collection cla...</td>\n",
       "      <td>[c++]</td>\n",
       "    </tr>\n",
       "    <tr>\n",
       "      <th>2</th>\n",
       "      <td>homegrown consumption web services writing web...</td>\n",
       "      <td>[.net]</td>\n",
       "    </tr>\n",
       "    <tr>\n",
       "      <th>3</th>\n",
       "      <td>automatically update version number would like...</td>\n",
       "      <td>[c#]</td>\n",
       "    </tr>\n",
       "    <tr>\n",
       "      <th>4</th>\n",
       "      <td>connect database loop recordset whats simplest...</td>\n",
       "      <td>[c#]</td>\n",
       "    </tr>\n",
       "    <tr>\n",
       "      <th>...</th>\n",
       "      <td>...</td>\n",
       "      <td>...</td>\n",
       "    </tr>\n",
       "    <tr>\n",
       "      <th>42082</th>\n",
       "      <td>using lambda default initializer gcc vs clang ...</td>\n",
       "      <td>[c++]</td>\n",
       "    </tr>\n",
       "    <tr>\n",
       "      <th>42083</th>\n",
       "      <td>stl list bad performance supposed push back po...</td>\n",
       "      <td>[c++]</td>\n",
       "    </tr>\n",
       "    <tr>\n",
       "      <th>42084</th>\n",
       "      <td>use dict subset dataframe say given dataframe ...</td>\n",
       "      <td>[python]</td>\n",
       "    </tr>\n",
       "    <tr>\n",
       "      <th>42085</th>\n",
       "      <td>way use itertools python clean nested iteratio...</td>\n",
       "      <td>[python]</td>\n",
       "    </tr>\n",
       "    <tr>\n",
       "      <th>42086</th>\n",
       "      <td>result data returned void gets broken working ...</td>\n",
       "      <td>[c++]</td>\n",
       "    </tr>\n",
       "  </tbody>\n",
       "</table>\n",
       "<p>42087 rows × 2 columns</p>\n",
       "</div>"
      ],
      "text/plain": [
       "                                                    Text        Tags\n",
       "0      adding scripting functionality net application...  [c#, .net]\n",
       "1      use nested classes case working collection cla...       [c++]\n",
       "2      homegrown consumption web services writing web...      [.net]\n",
       "3      automatically update version number would like...        [c#]\n",
       "4      connect database loop recordset whats simplest...        [c#]\n",
       "...                                                  ...         ...\n",
       "42082  using lambda default initializer gcc vs clang ...       [c++]\n",
       "42083  stl list bad performance supposed push back po...       [c++]\n",
       "42084  use dict subset dataframe say given dataframe ...    [python]\n",
       "42085  way use itertools python clean nested iteratio...    [python]\n",
       "42086  result data returned void gets broken working ...       [c++]\n",
       "\n",
       "[42087 rows x 2 columns]"
      ]
     },
     "execution_count": 6,
     "metadata": {},
     "output_type": "execute_result"
    }
   ],
   "source": [
    "# Remove the ' symbols in tags using ast\n",
    "\n",
    "df2['Tags'] = df2['Tags'].apply(lambda x: ast.literal_eval(x))\n",
    "df2"
   ]
  },
  {
   "cell_type": "code",
   "execution_count": 7,
   "id": "e8d37278",
   "metadata": {},
   "outputs": [
    {
     "name": "stdout",
     "output_type": "stream",
     "text": [
      "[java]                  5894\n",
      "[c#]                    4409\n",
      "[android]               4270\n",
      "[python]                4176\n",
      "[c++]                   3689\n",
      "[javascript]            3245\n",
      "[php]                   2384\n",
      "[c#, .net]              1619\n",
      "[ios]                   1359\n",
      "[c]                     1276\n",
      "[jquery]                1015\n",
      "[javascript, jquery]     989\n",
      "[sql]                    928\n",
      "[ruby-on-rails]          915\n",
      "[.net]                   845\n",
      "[css]                    761\n",
      "[iphone]                 701\n",
      "[ruby]                   686\n",
      "[mysql]                  606\n",
      "[html, css]              602\n",
      "[asp.net]                581\n",
      "[objective-c]            580\n",
      "[java, android]          557\n",
      "Name: Tags, dtype: int64\n"
     ]
    }
   ],
   "source": [
    "uniq_classes = df2['Tags'].value_counts()\n",
    "print(uniq_classes)"
   ]
  },
  {
   "cell_type": "markdown",
   "id": "a101f087",
   "metadata": {},
   "source": [
    "# Multilabel for Tags (Label encoding)"
   ]
  },
  {
   "cell_type": "code",
   "execution_count": 8,
   "id": "71370b2f",
   "metadata": {},
   "outputs": [],
   "source": [
    "multilabel = MultiLabelBinarizer()"
   ]
  },
  {
   "cell_type": "code",
   "execution_count": 9,
   "id": "5125846a",
   "metadata": {},
   "outputs": [],
   "source": [
    "y = multilabel.fit_transform(df2['Tags'])\n"
   ]
  },
  {
   "cell_type": "code",
   "execution_count": 10,
   "id": "d9833c0a",
   "metadata": {},
   "outputs": [
    {
     "data": {
      "text/plain": [
       "array([[1, 0, 0, ..., 0, 0, 0],\n",
       "       [0, 0, 0, ..., 0, 0, 0],\n",
       "       [1, 0, 0, ..., 0, 0, 0],\n",
       "       ...,\n",
       "       [0, 0, 0, ..., 0, 0, 0],\n",
       "       [0, 0, 0, ..., 0, 0, 0],\n",
       "       [0, 0, 0, ..., 0, 0, 0]])"
      ]
     },
     "execution_count": 10,
     "metadata": {},
     "output_type": "execute_result"
    }
   ],
   "source": [
    "y"
   ]
  },
  {
   "cell_type": "code",
   "execution_count": 11,
   "id": "df42f28e",
   "metadata": {},
   "outputs": [
    {
     "data": {
      "text/plain": [
       "array(['.net', 'android', 'asp.net', 'c', 'c#', 'c++', 'css', 'html',\n",
       "       'ios', 'iphone', 'java', 'javascript', 'jquery', 'mysql',\n",
       "       'objective-c', 'php', 'python', 'ruby', 'ruby-on-rails', 'sql'],\n",
       "      dtype=object)"
      ]
     },
     "execution_count": 11,
     "metadata": {},
     "output_type": "execute_result"
    }
   ],
   "source": [
    "multilabel.classes_"
   ]
  },
  {
   "cell_type": "code",
   "execution_count": 12,
   "id": "356d4dd4",
   "metadata": {},
   "outputs": [
    {
     "data": {
      "text/html": [
       "<div>\n",
       "<style scoped>\n",
       "    .dataframe tbody tr th:only-of-type {\n",
       "        vertical-align: middle;\n",
       "    }\n",
       "\n",
       "    .dataframe tbody tr th {\n",
       "        vertical-align: top;\n",
       "    }\n",
       "\n",
       "    .dataframe thead th {\n",
       "        text-align: right;\n",
       "    }\n",
       "</style>\n",
       "<table border=\"1\" class=\"dataframe\">\n",
       "  <thead>\n",
       "    <tr style=\"text-align: right;\">\n",
       "      <th></th>\n",
       "      <th>.net</th>\n",
       "      <th>android</th>\n",
       "      <th>asp.net</th>\n",
       "      <th>c</th>\n",
       "      <th>c#</th>\n",
       "      <th>c++</th>\n",
       "      <th>css</th>\n",
       "      <th>html</th>\n",
       "      <th>ios</th>\n",
       "      <th>iphone</th>\n",
       "      <th>java</th>\n",
       "      <th>javascript</th>\n",
       "      <th>jquery</th>\n",
       "      <th>mysql</th>\n",
       "      <th>objective-c</th>\n",
       "      <th>php</th>\n",
       "      <th>python</th>\n",
       "      <th>ruby</th>\n",
       "      <th>ruby-on-rails</th>\n",
       "      <th>sql</th>\n",
       "    </tr>\n",
       "  </thead>\n",
       "  <tbody>\n",
       "    <tr>\n",
       "      <th>0</th>\n",
       "      <td>1</td>\n",
       "      <td>0</td>\n",
       "      <td>0</td>\n",
       "      <td>0</td>\n",
       "      <td>1</td>\n",
       "      <td>0</td>\n",
       "      <td>0</td>\n",
       "      <td>0</td>\n",
       "      <td>0</td>\n",
       "      <td>0</td>\n",
       "      <td>0</td>\n",
       "      <td>0</td>\n",
       "      <td>0</td>\n",
       "      <td>0</td>\n",
       "      <td>0</td>\n",
       "      <td>0</td>\n",
       "      <td>0</td>\n",
       "      <td>0</td>\n",
       "      <td>0</td>\n",
       "      <td>0</td>\n",
       "    </tr>\n",
       "    <tr>\n",
       "      <th>1</th>\n",
       "      <td>0</td>\n",
       "      <td>0</td>\n",
       "      <td>0</td>\n",
       "      <td>0</td>\n",
       "      <td>0</td>\n",
       "      <td>1</td>\n",
       "      <td>0</td>\n",
       "      <td>0</td>\n",
       "      <td>0</td>\n",
       "      <td>0</td>\n",
       "      <td>0</td>\n",
       "      <td>0</td>\n",
       "      <td>0</td>\n",
       "      <td>0</td>\n",
       "      <td>0</td>\n",
       "      <td>0</td>\n",
       "      <td>0</td>\n",
       "      <td>0</td>\n",
       "      <td>0</td>\n",
       "      <td>0</td>\n",
       "    </tr>\n",
       "    <tr>\n",
       "      <th>2</th>\n",
       "      <td>1</td>\n",
       "      <td>0</td>\n",
       "      <td>0</td>\n",
       "      <td>0</td>\n",
       "      <td>0</td>\n",
       "      <td>0</td>\n",
       "      <td>0</td>\n",
       "      <td>0</td>\n",
       "      <td>0</td>\n",
       "      <td>0</td>\n",
       "      <td>0</td>\n",
       "      <td>0</td>\n",
       "      <td>0</td>\n",
       "      <td>0</td>\n",
       "      <td>0</td>\n",
       "      <td>0</td>\n",
       "      <td>0</td>\n",
       "      <td>0</td>\n",
       "      <td>0</td>\n",
       "      <td>0</td>\n",
       "    </tr>\n",
       "    <tr>\n",
       "      <th>3</th>\n",
       "      <td>0</td>\n",
       "      <td>0</td>\n",
       "      <td>0</td>\n",
       "      <td>0</td>\n",
       "      <td>1</td>\n",
       "      <td>0</td>\n",
       "      <td>0</td>\n",
       "      <td>0</td>\n",
       "      <td>0</td>\n",
       "      <td>0</td>\n",
       "      <td>0</td>\n",
       "      <td>0</td>\n",
       "      <td>0</td>\n",
       "      <td>0</td>\n",
       "      <td>0</td>\n",
       "      <td>0</td>\n",
       "      <td>0</td>\n",
       "      <td>0</td>\n",
       "      <td>0</td>\n",
       "      <td>0</td>\n",
       "    </tr>\n",
       "    <tr>\n",
       "      <th>4</th>\n",
       "      <td>0</td>\n",
       "      <td>0</td>\n",
       "      <td>0</td>\n",
       "      <td>0</td>\n",
       "      <td>1</td>\n",
       "      <td>0</td>\n",
       "      <td>0</td>\n",
       "      <td>0</td>\n",
       "      <td>0</td>\n",
       "      <td>0</td>\n",
       "      <td>0</td>\n",
       "      <td>0</td>\n",
       "      <td>0</td>\n",
       "      <td>0</td>\n",
       "      <td>0</td>\n",
       "      <td>0</td>\n",
       "      <td>0</td>\n",
       "      <td>0</td>\n",
       "      <td>0</td>\n",
       "      <td>0</td>\n",
       "    </tr>\n",
       "    <tr>\n",
       "      <th>...</th>\n",
       "      <td>...</td>\n",
       "      <td>...</td>\n",
       "      <td>...</td>\n",
       "      <td>...</td>\n",
       "      <td>...</td>\n",
       "      <td>...</td>\n",
       "      <td>...</td>\n",
       "      <td>...</td>\n",
       "      <td>...</td>\n",
       "      <td>...</td>\n",
       "      <td>...</td>\n",
       "      <td>...</td>\n",
       "      <td>...</td>\n",
       "      <td>...</td>\n",
       "      <td>...</td>\n",
       "      <td>...</td>\n",
       "      <td>...</td>\n",
       "      <td>...</td>\n",
       "      <td>...</td>\n",
       "      <td>...</td>\n",
       "    </tr>\n",
       "    <tr>\n",
       "      <th>42082</th>\n",
       "      <td>0</td>\n",
       "      <td>0</td>\n",
       "      <td>0</td>\n",
       "      <td>0</td>\n",
       "      <td>0</td>\n",
       "      <td>1</td>\n",
       "      <td>0</td>\n",
       "      <td>0</td>\n",
       "      <td>0</td>\n",
       "      <td>0</td>\n",
       "      <td>0</td>\n",
       "      <td>0</td>\n",
       "      <td>0</td>\n",
       "      <td>0</td>\n",
       "      <td>0</td>\n",
       "      <td>0</td>\n",
       "      <td>0</td>\n",
       "      <td>0</td>\n",
       "      <td>0</td>\n",
       "      <td>0</td>\n",
       "    </tr>\n",
       "    <tr>\n",
       "      <th>42083</th>\n",
       "      <td>0</td>\n",
       "      <td>0</td>\n",
       "      <td>0</td>\n",
       "      <td>0</td>\n",
       "      <td>0</td>\n",
       "      <td>1</td>\n",
       "      <td>0</td>\n",
       "      <td>0</td>\n",
       "      <td>0</td>\n",
       "      <td>0</td>\n",
       "      <td>0</td>\n",
       "      <td>0</td>\n",
       "      <td>0</td>\n",
       "      <td>0</td>\n",
       "      <td>0</td>\n",
       "      <td>0</td>\n",
       "      <td>0</td>\n",
       "      <td>0</td>\n",
       "      <td>0</td>\n",
       "      <td>0</td>\n",
       "    </tr>\n",
       "    <tr>\n",
       "      <th>42084</th>\n",
       "      <td>0</td>\n",
       "      <td>0</td>\n",
       "      <td>0</td>\n",
       "      <td>0</td>\n",
       "      <td>0</td>\n",
       "      <td>0</td>\n",
       "      <td>0</td>\n",
       "      <td>0</td>\n",
       "      <td>0</td>\n",
       "      <td>0</td>\n",
       "      <td>0</td>\n",
       "      <td>0</td>\n",
       "      <td>0</td>\n",
       "      <td>0</td>\n",
       "      <td>0</td>\n",
       "      <td>0</td>\n",
       "      <td>1</td>\n",
       "      <td>0</td>\n",
       "      <td>0</td>\n",
       "      <td>0</td>\n",
       "    </tr>\n",
       "    <tr>\n",
       "      <th>42085</th>\n",
       "      <td>0</td>\n",
       "      <td>0</td>\n",
       "      <td>0</td>\n",
       "      <td>0</td>\n",
       "      <td>0</td>\n",
       "      <td>0</td>\n",
       "      <td>0</td>\n",
       "      <td>0</td>\n",
       "      <td>0</td>\n",
       "      <td>0</td>\n",
       "      <td>0</td>\n",
       "      <td>0</td>\n",
       "      <td>0</td>\n",
       "      <td>0</td>\n",
       "      <td>0</td>\n",
       "      <td>0</td>\n",
       "      <td>1</td>\n",
       "      <td>0</td>\n",
       "      <td>0</td>\n",
       "      <td>0</td>\n",
       "    </tr>\n",
       "    <tr>\n",
       "      <th>42086</th>\n",
       "      <td>0</td>\n",
       "      <td>0</td>\n",
       "      <td>0</td>\n",
       "      <td>0</td>\n",
       "      <td>0</td>\n",
       "      <td>1</td>\n",
       "      <td>0</td>\n",
       "      <td>0</td>\n",
       "      <td>0</td>\n",
       "      <td>0</td>\n",
       "      <td>0</td>\n",
       "      <td>0</td>\n",
       "      <td>0</td>\n",
       "      <td>0</td>\n",
       "      <td>0</td>\n",
       "      <td>0</td>\n",
       "      <td>0</td>\n",
       "      <td>0</td>\n",
       "      <td>0</td>\n",
       "      <td>0</td>\n",
       "    </tr>\n",
       "  </tbody>\n",
       "</table>\n",
       "<p>42087 rows × 20 columns</p>\n",
       "</div>"
      ],
      "text/plain": [
       "       .net  android  asp.net  c  c#  c++  css  html  ios  iphone  java  \\\n",
       "0         1        0        0  0   1    0    0     0    0       0     0   \n",
       "1         0        0        0  0   0    1    0     0    0       0     0   \n",
       "2         1        0        0  0   0    0    0     0    0       0     0   \n",
       "3         0        0        0  0   1    0    0     0    0       0     0   \n",
       "4         0        0        0  0   1    0    0     0    0       0     0   \n",
       "...     ...      ...      ... ..  ..  ...  ...   ...  ...     ...   ...   \n",
       "42082     0        0        0  0   0    1    0     0    0       0     0   \n",
       "42083     0        0        0  0   0    1    0     0    0       0     0   \n",
       "42084     0        0        0  0   0    0    0     0    0       0     0   \n",
       "42085     0        0        0  0   0    0    0     0    0       0     0   \n",
       "42086     0        0        0  0   0    1    0     0    0       0     0   \n",
       "\n",
       "       javascript  jquery  mysql  objective-c  php  python  ruby  \\\n",
       "0               0       0      0            0    0       0     0   \n",
       "1               0       0      0            0    0       0     0   \n",
       "2               0       0      0            0    0       0     0   \n",
       "3               0       0      0            0    0       0     0   \n",
       "4               0       0      0            0    0       0     0   \n",
       "...           ...     ...    ...          ...  ...     ...   ...   \n",
       "42082           0       0      0            0    0       0     0   \n",
       "42083           0       0      0            0    0       0     0   \n",
       "42084           0       0      0            0    0       1     0   \n",
       "42085           0       0      0            0    0       1     0   \n",
       "42086           0       0      0            0    0       0     0   \n",
       "\n",
       "       ruby-on-rails  sql  \n",
       "0                  0    0  \n",
       "1                  0    0  \n",
       "2                  0    0  \n",
       "3                  0    0  \n",
       "4                  0    0  \n",
       "...              ...  ...  \n",
       "42082              0    0  \n",
       "42083              0    0  \n",
       "42084              0    0  \n",
       "42085              0    0  \n",
       "42086              0    0  \n",
       "\n",
       "[42087 rows x 20 columns]"
      ]
     },
     "execution_count": 12,
     "metadata": {},
     "output_type": "execute_result"
    }
   ],
   "source": [
    "pd.DataFrame(y, columns=multilabel.classes_)"
   ]
  },
  {
   "cell_type": "markdown",
   "id": "c1f33697",
   "metadata": {},
   "source": [
    "# TFIDF (Feature extraction)"
   ]
  },
  {
   "cell_type": "code",
   "execution_count": 13,
   "id": "ec790d27",
   "metadata": {},
   "outputs": [],
   "source": [
    "\n",
    "tfidf = TfidfVectorizer()\n",
    "X = tfidf.fit_transform(df2['Text'])"
   ]
  },
  {
   "cell_type": "markdown",
   "id": "1cd49b64",
   "metadata": {},
   "source": [
    "# Train_Test Split "
   ]
  },
  {
   "cell_type": "code",
   "execution_count": 14,
   "id": "026ad241",
   "metadata": {},
   "outputs": [],
   "source": [
    "\n",
    "X_train, X_test, y_train, y_test = train_test_split(X, y, test_size = 0.2, random_state = 0, shuffle=True)\n"
   ]
  },
  {
   "cell_type": "markdown",
   "id": "bfd4f57b",
   "metadata": {},
   "source": [
    "# Model Train"
   ]
  },
  {
   "cell_type": "code",
   "execution_count": 15,
   "id": "398c1187",
   "metadata": {},
   "outputs": [],
   "source": [
    "clf_sgd = SGDClassifier()\n",
    "clf_lr = LogisticRegression(solver='lbfgs')\n",
    "clf_svc = LinearSVC(C=2, penalty = 'l1', dual=False)"
   ]
  },
  {
   "cell_type": "code",
   "execution_count": 16,
   "id": "5b8239ed",
   "metadata": {},
   "outputs": [],
   "source": [
    "from sklearn.metrics import f1_score\n",
    "from sklearn.metrics import accuracy_score\n",
    "from sklearn.metrics import hamming_loss\n",
    "from sklearn.metrics import jaccard_score\n",
    "from sklearn.metrics import precision_score\n",
    "from sklearn.metrics import recall_score\n",
    "from sklearn.metrics import classification_report, confusion_matrix\n",
    "\n",
    "# Function for jaccard score\n",
    "def j_score(y_true, y_pred):\n",
    "    jaccard = jaccard_score(y_true, y_pred, average='samples')\n",
    "    return jaccard\n",
    "\n",
    "    \n",
    "# Function for hamming loss\n",
    "def hamming_loss(y_true, y_pred):\n",
    "    hl_num = np.sum(np.logical_xor(y_true, y_pred))\n",
    "    hl_den = np.prod(y_true.shape)\n",
    "    return hl_num/hl_den * 10\n",
    "\n",
    "# Functon for accuracy score\n",
    "def accuracy(y_true,y_pred):\n",
    "    return accuracy_score(y_true, y_pred) * 100 # this gives us how often the algorithm predicted correctly\n",
    "\n",
    "# Function to display classfication report\n",
    "def classification(y_true,y_pred):\n",
    "    return classification_report(y_true, y_pred)\n",
    "\n",
    "\n",
    "def print_score(y_pred, clf):\n",
    "    print(\"Clf: \", clf.__class__.__name__)\n",
    "    print('Jacard score: {}'.format(j_score(y_test, y_pred)))\n",
    "    print('Hamming loss: {}'.format(hamming_loss(y_test,y_pred)))\n",
    "    print('Accuracy: {}'.format(accuracy(y_test,y_pred)))\n",
    "    print(classification(y_test,y_pred))\n",
    "    print('---------------------')"
   ]
  },
  {
   "cell_type": "markdown",
   "id": "51bca0be",
   "metadata": {},
   "source": [
    "# Compare algorithm with ClassifierChain and different classfier model\n"
   ]
  },
  {
   "cell_type": "code",
   "execution_count": 17,
   "id": "52d4d207",
   "metadata": {},
   "outputs": [
    {
     "name": "stdout",
     "output_type": "stream",
     "text": [
      "Clf:  SGDClassifier\n",
      "Jacard score: 0.6064979805179378\n",
      "Hamming loss: 0.4083511522927061\n",
      "Accuracy: 57.21073889284865\n",
      "              precision    recall  f1-score   support\n",
      "\n",
      "           0       0.78      0.17      0.28       520\n",
      "           1       0.99      0.79      0.88       935\n",
      "           2       0.76      0.37      0.50       106\n",
      "           3       0.50      0.56      0.53       240\n",
      "           4       0.74      0.49      0.59      1215\n",
      "           5       0.87      0.54      0.67       747\n",
      "           6       0.89      0.67      0.76       261\n",
      "           7       0.55      0.17      0.26       129\n",
      "           8       0.91      0.33      0.49       270\n",
      "           9       0.70      0.42      0.53       136\n",
      "          10       0.97      0.60      0.74      1333\n",
      "          11       0.76      0.72      0.74       905\n",
      "          12       0.86      0.60      0.71       415\n",
      "          13       0.89      0.61      0.72       118\n",
      "          14       1.00      0.16      0.28       105\n",
      "          15       0.15      0.94      0.27       443\n",
      "          16       0.97      0.81      0.88       809\n",
      "          17       0.96      0.56      0.71       151\n",
      "          18       0.91      0.49      0.64       186\n",
      "          19       0.89      0.42      0.57       201\n",
      "\n",
      "   micro avg       0.64      0.59      0.61      9225\n",
      "   macro avg       0.80      0.52      0.59      9225\n",
      "weighted avg       0.82      0.59      0.65      9225\n",
      " samples avg       0.64      0.61      0.62      9225\n",
      "\n",
      "---------------------\n",
      "Clf:  LogisticRegression\n",
      "Jacard score: 0.5814326443335709\n",
      "Hamming loss: 0.4339510572582561\n",
      "Accuracy: 54.739843193157526\n",
      "              precision    recall  f1-score   support\n",
      "\n",
      "           0       0.71      0.21      0.32       520\n",
      "           1       0.99      0.73      0.84       935\n",
      "           2       0.85      0.21      0.33       106\n",
      "           3       0.52      0.49      0.50       240\n",
      "           4       0.75      0.51      0.61      1215\n",
      "           5       0.85      0.54      0.66       747\n",
      "           6       0.92      0.58      0.71       261\n",
      "           7       0.58      0.23      0.33       129\n",
      "           8       0.86      0.29      0.43       270\n",
      "           9       0.74      0.25      0.37       136\n",
      "          10       0.96      0.58      0.72      1333\n",
      "          11       0.75      0.74      0.75       905\n",
      "          12       0.68      0.62      0.65       415\n",
      "          13       0.93      0.42      0.58       118\n",
      "          14       0.92      0.10      0.19       105\n",
      "          15       0.15      0.96      0.26       443\n",
      "          16       0.96      0.81      0.88       809\n",
      "          17       0.95      0.36      0.52       151\n",
      "          18       0.94      0.32      0.47       186\n",
      "          19       0.87      0.39      0.54       201\n",
      "\n",
      "   micro avg       0.61      0.57      0.59      9225\n",
      "   macro avg       0.79      0.47      0.53      9225\n",
      "weighted avg       0.81      0.57      0.63      9225\n",
      " samples avg       0.61      0.59      0.59      9225\n",
      "\n",
      "---------------------\n"
     ]
    },
    {
     "name": "stderr",
     "output_type": "stream",
     "text": [
      "/Users/admin/Desktop/Python/Jupyter envoriment/venv/lib/python3.8/site-packages/sklearn/metrics/_classification.py:1308: UndefinedMetricWarning: Precision and F-score are ill-defined and being set to 0.0 in samples with no predicted labels. Use `zero_division` parameter to control this behavior.\n",
      "  _warn_prf(average, modifier, msg_start, len(result))\n",
      "/Users/admin/Desktop/Python/Jupyter envoriment/venv/lib/python3.8/site-packages/sklearn/svm/_base.py:1206: ConvergenceWarning: Liblinear failed to converge, increase the number of iterations.\n",
      "  warnings.warn(\n",
      "/Users/admin/Desktop/Python/Jupyter envoriment/venv/lib/python3.8/site-packages/sklearn/svm/_base.py:1206: ConvergenceWarning: Liblinear failed to converge, increase the number of iterations.\n",
      "  warnings.warn(\n"
     ]
    },
    {
     "name": "stdout",
     "output_type": "stream",
     "text": [
      "Clf:  LinearSVC\n",
      "Jacard score: 0.7268353528153956\n",
      "Hamming loss: 0.28254929912093135\n",
      "Accuracy: 68.25849370396769\n",
      "              precision    recall  f1-score   support\n",
      "\n",
      "           0       0.33      0.39      0.35       520\n",
      "           1       0.97      0.90      0.94       935\n",
      "           2       0.78      0.53      0.63       106\n",
      "           3       0.45      0.58      0.51       240\n",
      "           4       0.71      0.69      0.70      1215\n",
      "           5       0.79      0.68      0.73       747\n",
      "           6       0.91      0.80      0.85       261\n",
      "           7       0.48      0.30      0.37       129\n",
      "           8       0.80      0.57      0.67       270\n",
      "           9       0.61      0.63      0.62       136\n",
      "          10       0.91      0.76      0.83      1333\n",
      "          11       0.71      0.76      0.74       905\n",
      "          12       0.83      0.67      0.74       415\n",
      "          13       0.87      0.71      0.78       118\n",
      "          14       0.71      0.55      0.62       105\n",
      "          15       0.52      0.85      0.64       443\n",
      "          16       0.94      0.88      0.91       809\n",
      "          17       0.89      0.74      0.81       151\n",
      "          18       0.90      0.72      0.80       186\n",
      "          19       0.83      0.67      0.74       201\n",
      "\n",
      "   micro avg       0.75      0.72      0.74      9225\n",
      "   macro avg       0.75      0.67      0.70      9225\n",
      "weighted avg       0.77      0.72      0.74      9225\n",
      " samples avg       0.76      0.74      0.74      9225\n",
      "\n",
      "---------------------\n"
     ]
    }
   ],
   "source": [
    "# Compare with ClassifierChain\n",
    "from sklearn.multioutput import ClassifierChain\n",
    "\n",
    "for classifier in [clf_sgd, clf_lr, clf_svc]:\n",
    "    chain =  ClassifierChain(classifier, order='random', random_state=0)\n",
    "    chain.fit(X_train, y_train)\n",
    "    y_pred = chain.predict(X_test)\n",
    "    print_score(y_pred, classifier) \n"
   ]
  },
  {
   "cell_type": "code",
   "execution_count": 18,
   "id": "2f56914a",
   "metadata": {},
   "outputs": [
    {
     "name": "stderr",
     "output_type": "stream",
     "text": [
      "/Users/admin/Desktop/Python/Jupyter envoriment/venv/lib/python3.8/site-packages/sklearn/svm/_base.py:1206: ConvergenceWarning: Liblinear failed to converge, increase the number of iterations.\n",
      "  warnings.warn(\n"
     ]
    },
    {
     "name": "stdout",
     "output_type": "stream",
     "text": [
      "Clf:  LinearSVC\n",
      "Jacard score: 0.7284390591589451\n",
      "Hamming loss: 0.28308386790211454\n",
      "Accuracy: 68.65051081016868\n",
      "              precision    recall  f1-score   support\n",
      "\n",
      "           0       0.57      0.27      0.37       520\n",
      "           1       0.97      0.90      0.94       935\n",
      "           2       0.75      0.47      0.58       106\n",
      "           3       0.69      0.47      0.56       240\n",
      "           4       0.75      0.61      0.67      1215\n",
      "           5       0.76      0.72      0.74       747\n",
      "           6       0.91      0.81      0.86       261\n",
      "           7       0.48      0.30      0.37       129\n",
      "           8       0.82      0.60      0.69       270\n",
      "           9       0.74      0.56      0.64       136\n",
      "          10       0.82      0.82      0.82      1333\n",
      "          11       0.78      0.76      0.77       905\n",
      "          12       0.84      0.72      0.77       415\n",
      "          13       0.88      0.70      0.78       118\n",
      "          14       0.50      0.59      0.54       105\n",
      "          15       0.81      0.84      0.82       443\n",
      "          16       0.54      0.93      0.68       809\n",
      "          17       0.84      0.69      0.76       151\n",
      "          18       0.67      0.82      0.74       186\n",
      "          19       0.66      0.84      0.74       201\n",
      "\n",
      "   micro avg       0.75      0.72      0.74      9225\n",
      "   macro avg       0.74      0.67      0.69      9225\n",
      "weighted avg       0.76      0.72      0.73      9225\n",
      " samples avg       0.75      0.74      0.74      9225\n",
      "\n",
      "---------------------\n"
     ]
    }
   ],
   "source": [
    "# Train with the best algorithm (Linear SVC)\n",
    "model = ClassifierChain(clf_svc)\n",
    "model.fit(X_train, y_train)\n",
    "y_pred = model.predict(X_test)\n",
    "print_score(y_pred, clf_svc)"
   ]
  },
  {
   "cell_type": "markdown",
   "id": "9105f2ad",
   "metadata": {},
   "source": [
    "# Testing model"
   ]
  },
  {
   "cell_type": "code",
   "execution_count": 39,
   "id": "e60bd58e",
   "metadata": {},
   "outputs": [],
   "source": [
    "test_data = ['''How to create a variable with ios and objective-c''']"
   ]
  },
  {
   "cell_type": "code",
   "execution_count": 40,
   "id": "cbb69749",
   "metadata": {},
   "outputs": [],
   "source": [
    "xt = tfidf.transform(test_data)"
   ]
  },
  {
   "cell_type": "code",
   "execution_count": 41,
   "id": "5f89415b",
   "metadata": {},
   "outputs": [
    {
     "data": {
      "text/plain": [
       "array([[0., 0., 0., 0., 0., 0., 0., 0., 1., 0., 0., 0., 0., 0., 1., 0.,\n",
       "        0., 0., 0., 0.]])"
      ]
     },
     "execution_count": 41,
     "metadata": {},
     "output_type": "execute_result"
    }
   ],
   "source": [
    "model.predict(xt)"
   ]
  },
  {
   "cell_type": "code",
   "execution_count": 42,
   "id": "11a9887c",
   "metadata": {},
   "outputs": [
    {
     "data": {
      "text/plain": [
       "[('ios', 'objective-c')]"
      ]
     },
     "execution_count": 42,
     "metadata": {},
     "output_type": "execute_result"
    }
   ],
   "source": [
    "multilabel.inverse_transform(model.predict(xt))"
   ]
  },
  {
   "cell_type": "markdown",
   "id": "744b2357",
   "metadata": {},
   "source": [
    "# Export to pickle (Start here below no need to run)"
   ]
  },
  {
   "cell_type": "code",
   "execution_count": 23,
   "id": "572d2e08",
   "metadata": {},
   "outputs": [],
   "source": [
    "# Multilabel to pickle\n",
    "import pickle\n",
    "\n",
    "with open(\"multilabel.pkl\",\"wb\") as f:\n",
    "    pickle.dump(multilabel,f)"
   ]
  },
  {
   "cell_type": "code",
   "execution_count": 24,
   "id": "686c18cf",
   "metadata": {},
   "outputs": [],
   "source": [
    "#TFIDF to pickle\n",
    "\n",
    "with open(\"tfidf.pkl\",\"wb\") as f:\n",
    "    pickle.dump(tfidf,f)"
   ]
  },
  {
   "cell_type": "code",
   "execution_count": 25,
   "id": "937d95dd",
   "metadata": {},
   "outputs": [],
   "source": [
    "# Model (Linear SVC) to pickle\n",
    "import pickle\n",
    "\n",
    "with open(\"model.pkl\",\"wb\") as f:\n",
    "    pickle.dump(model,f)"
   ]
  },
  {
   "cell_type": "markdown",
   "id": "edbb38f6",
   "metadata": {},
   "source": [
    "# Test Pickle"
   ]
  },
  {
   "cell_type": "code",
   "execution_count": 16,
   "id": "1dc70125",
   "metadata": {},
   "outputs": [],
   "source": [
    "import pickle\n",
    "vectorizer_saved = open(\"tfidf.pkl\",\"rb\")\n",
    "loaded = pickle.load(vectorizer_saved)\n",
    "\n",
    "user_input = ['''system.out.println.   \n",
    "''']\n",
    "user_text_x = loaded.transform(user_input)\n",
    "#print(user_text_x)"
   ]
  },
  {
   "cell_type": "code",
   "execution_count": 17,
   "id": "bcc8ef6c",
   "metadata": {},
   "outputs": [
    {
     "name": "stdout",
     "output_type": "stream",
     "text": [
      "[[0. 0. 0. 0. 0. 0. 0. 0. 0. 0. 1. 0. 0. 0. 0. 0. 0. 0. 0. 0.]]\n"
     ]
    }
   ],
   "source": [
    "f = open(\"model.pkl\",\"rb\")\n",
    "model_saved = pickle.load(f)\n",
    "pred_result = model_saved.predict(user_text_x)\n",
    "print(pred_result)"
   ]
  },
  {
   "cell_type": "code",
   "execution_count": 18,
   "id": "48798011",
   "metadata": {},
   "outputs": [
    {
     "name": "stdout",
     "output_type": "stream",
     "text": [
      "[('java',)]\n"
     ]
    }
   ],
   "source": [
    "out = open(\"multilabel.pkl\",\"rb\")\n",
    "display = pickle.load(out)\n",
    "print(display.inverse_transform(model_saved.predict(user_text_x)))"
   ]
  }
 ],
 "metadata": {
  "kernelspec": {
   "display_name": "venv",
   "language": "python",
   "name": "venv"
  },
  "language_info": {
   "codemirror_mode": {
    "name": "ipython",
    "version": 3
   },
   "file_extension": ".py",
   "mimetype": "text/x-python",
   "name": "python",
   "nbconvert_exporter": "python",
   "pygments_lexer": "ipython3",
   "version": "3.8.7"
  }
 },
 "nbformat": 4,
 "nbformat_minor": 5
}
